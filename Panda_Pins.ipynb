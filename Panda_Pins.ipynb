{
 "cells": [
  {
   "cell_type": "markdown",
   "metadata": {},
   "source": [
    "# Comandos y funciones útiles "
   ]
  },
  {
   "cell_type": "markdown",
   "metadata": {},
   "source": [
    "#### Cambiar el ancho del panel"
   ]
  },
  {
   "cell_type": "code",
   "execution_count": 6,
   "metadata": {},
   "outputs": [
    {
     "data": {
      "text/html": [
       "<style>.container { width:70% !important; }</style>"
      ],
      "text/plain": [
       "<IPython.core.display.HTML object>"
      ]
     },
     "metadata": {},
     "output_type": "display_data"
    }
   ],
   "source": [
    "from IPython.core.display import display, HTML\n",
    "display(HTML(\"<style>.container { width:70% !important; }</style>\"))"
   ]
  },
  {
   "cell_type": "markdown",
   "metadata": {},
   "source": [
    "####  Exportación sin código"
   ]
  },
  {
   "cell_type": "code",
   "execution_count": 4,
   "metadata": {},
   "outputs": [],
   "source": [
    "%%javascript\n",
    "IPython.notebook.kernel.execute('nb_name = \"' + IPython.notebook.notebook_name + '\"')"
   ]
  },
  {
   "cell_type": "code",
   "execution_count": null,
   "metadata": {},
   "outputs": [],
   "source": [
    "print(nb_name)\n",
    "!jupyter nbconvert --output-dir='/home/mato/Documentos/Datos/EDA/CEO' --no-input --to html $nb_name"
   ]
  },
  {
   "cell_type": "code",
   "execution_count": null,
   "metadata": {},
   "outputs": [],
   "source": [
    "# Ocultando tags = 'no'\n",
    "!jupyter nbconvert --TagRemovePreprocessor.enabled=True --TagRemovePreprocessor.remove_cell_tags='{\"no\"}' --output-dir='/home/mato/Documentos/Datos/EDA/TasasDeUso/export' --no-input --to html $nb_name "
   ]
  },
  {
   "cell_type": "markdown",
   "metadata": {},
   "source": [
    "#### Exportar a HTML sin codigo y sin celdas con tag \"no\""
   ]
  },
  {
   "cell_type": "code",
   "execution_count": null,
   "metadata": {},
   "outputs": [],
   "source": [
    "# (desde la consola)\n",
    "jupyter nbconvert archivo.ipynb --TagRemovePreprocessor.enabled=True --TagRemovePreprocessor.remove_cell_tags='{\"no\"}' --no-input --to html"
   ]
  },
  {
   "cell_type": "markdown",
   "metadata": {},
   "source": [
    "#### Exportar a HTML con gráficos interactivos"
   ]
  },
  {
   "cell_type": "markdown",
   "metadata": {},
   "source": [
    "https://community.plotly.com/t/export-figurewidgets-from-jupyter-notebook-to-html/15556/2\n",
    "\n",
    "- Run the notebook using the classic JupyterNotebook (not JupyterLab)\n",
    "- Save notebook using the “Widgets -> Save Notebook Widgets State” menu item\n",
    "- Use nbconvert on the command line to convert the notebook to HTML (See https://github.com/jupyter/nbconvert 169). I have nbconvert version 5.4.0 installed.\n",
    "\n",
    "    $ jupyter nbconvert --to html mynotebook.ipynb\n"
   ]
  },
  {
   "cell_type": "markdown",
   "metadata": {},
   "source": [
    "#### Jupyterthemes"
   ]
  },
  {
   "cell_type": "code",
   "execution_count": 4,
   "metadata": {},
   "outputs": [],
   "source": [
    "# !pip install jupyterthemes \n",
    "!jt -t grade3 -tf firacode -tfs 13 -mathfs 110 -fs 13 -N -T"
   ]
  },
  {
   "cell_type": "markdown",
   "metadata": {},
   "source": [
    "#### Buscar parte de una cadena, de una lista, en otra lista"
   ]
  },
  {
   "cell_type": "code",
   "execution_count": null,
   "metadata": {},
   "outputs": [],
   "source": [
    "# https://stackoverflow.com/questions/4843158/check-if-a-python-list-item-contains-a-string-inside-another-string\n",
    "lista = ['esto es argentina',\n",
    " 'esto es francia y chile',\n",
    " 'esto es nada',\n",
    " 'esto es francia',\n",
    " 'esto es chile',\n",
    " 'nada']\n",
    "cadenas = ['argentina', 'francia', 'chile', 'brasil']\n",
    "\n",
    "matching = [s for s in lista if any(xs in s for xs in cadenas)]\n",
    "matching"
   ]
  },
  {
   "cell_type": "markdown",
   "metadata": {},
   "source": [
    "#### Formatear números."
   ]
  },
  {
   "cell_type": "code",
   "execution_count": null,
   "metadata": {},
   "outputs": [],
   "source": [
    "pd.set_option('float_format', '{:f}'.format)\n",
    "pd.options.display.float_format = '{:,.2f}'.format"
   ]
  },
  {
   "cell_type": "code",
   "execution_count": null,
   "metadata": {},
   "outputs": [],
   "source": [
    "# https://re-thought.com/how-to-suppress-scientific-notation-in-pandas/\n",
    "pd.set_option('display.float_format', lambda x: '%.5f' % x)\n",
    "pd.reset_option('display.float_format')"
   ]
  },
  {
   "cell_type": "markdown",
   "metadata": {
    "heading_collapsed": true
   },
   "source": [
    "#### Reemplazamos infinito y NaN por 0"
   ]
  },
  {
   "cell_type": "code",
   "execution_count": null,
   "metadata": {
    "hidden": true
   },
   "outputs": [],
   "source": [
    "cuadro03 = cuadro03.replace([np.inf, -np.inf, np.nan], 0).sort_values(by=['OpSobreDeb100'], ascending = False)"
   ]
  },
  {
   "cell_type": "markdown",
   "metadata": {
    "heading_collapsed": true
   },
   "source": [
    "#### Renombramos columnas"
   ]
  },
  {
   "cell_type": "code",
   "execution_count": null,
   "metadata": {
    "hidden": true
   },
   "outputs": [],
   "source": [
    "cuadro03.rename(columns = {'OP': 'Suma de OP', \n",
    "                           'NemesisDeb': 'Suma de Debitos', \n",
    "                           'OpSobreDeb100':'OP sobre Debitos (por 100)'}, \n",
    "                inplace = True)"
   ]
  },
  {
   "cell_type": "markdown",
   "metadata": {
    "heading_collapsed": true
   },
   "source": [
    "#### Concatenar columnas "
   ]
  },
  {
   "cell_type": "code",
   "execution_count": null,
   "metadata": {
    "hidden": true
   },
   "outputs": [],
   "source": [
    "df[\"period\"] = df[\"Year\"].astype(str) + df[\"quarter\"]"
   ]
  },
  {
   "cell_type": "markdown",
   "metadata": {},
   "source": [
    "#### Generamos dataframes ordenados por diferentes columnas "
   ]
  },
  {
   "cell_type": "code",
   "execution_count": null,
   "metadata": {},
   "outputs": [],
   "source": [
    "columns = [\n",
    "    'Suma de NemesisPrecarga', 'NemesisLiq', 'NemesisDeb', 'PreOP', 'OP',\n",
    "    'Pagado', 'Anticipos / NC', 'Deuda'\n",
    "]\n",
    "\n",
    "list_of_dfs = {}\n",
    "for column in columns:\n",
    "    list_of_dfs[column] = df.sort_values(by=[column],\n",
    "                                         ascending=False).iloc[0:20, :]\n",
    "\n",
    "# Mostramos una de las resultantes. Sería un vector de DF, cada uno con el nombre de la columna como id\n",
    "list_of_dfs['NemesisLiq']"
   ]
  },
  {
   "cell_type": "markdown",
   "metadata": {},
   "source": [
    "#### Guardamos DF en excel, con varias solapas "
   ]
  },
  {
   "cell_type": "code",
   "execution_count": null,
   "metadata": {},
   "outputs": [],
   "source": [
    "writer = pd.ExcelWriter('/home/mato/Documentos/Datos/EDA/liquidaciones/AnalisisData.xlsx', engine='xlsxwriter')\n",
    "\n",
    "cuadro01.to_excel(writer, sheet_name='PPXop', index= False)\n",
    "cuadro02.to_excel(writer, sheet_name='PPXdebito', index= False)\n",
    "cuadro03.to_excel(writer, sheet_name='MayordebitoxOP', index= False)\n",
    "cuadro04.to_excel(writer, sheet_name='cocientes', index= False)\n",
    "cuadro05.to_excel(writer, sheet_name='AltaFact_bajoDeb', index= False)\n",
    "cuadro06.to_excel(writer, sheet_name='BajaFact_bajoDeb', index= False)\n",
    "cuadro07.to_excel(writer, sheet_name='OPsRepetidas')\n",
    "\n",
    "writer.save()"
   ]
  },
  {
   "cell_type": "markdown",
   "metadata": {
    "heading_collapsed": true
   },
   "source": [
    "#### Cantidad de filas y columnas para mostrar"
   ]
  },
  {
   "cell_type": "code",
   "execution_count": null,
   "metadata": {
    "hidden": true
   },
   "outputs": [],
   "source": [
    "pd.set_option('display.max_columns', None)\n",
    "pd.set_option('display.max_rows', None)"
   ]
  },
  {
   "cell_type": "markdown",
   "metadata": {
    "heading_collapsed": true
   },
   "source": [
    "####  Reemplzamos NaN"
   ]
  },
  {
   "cell_type": "code",
   "execution_count": null,
   "metadata": {
    "hidden": true
   },
   "outputs": [],
   "source": [
    "df.fillna(0) #  en todo el DF"
   ]
  },
  {
   "cell_type": "markdown",
   "metadata": {
    "heading_collapsed": true
   },
   "source": [
    "#### Bins"
   ]
  },
  {
   "cell_type": "code",
   "execution_count": null,
   "metadata": {
    "hidden": true
   },
   "outputs": [],
   "source": [
    "bins = [-np.inf, 0, 10, 20,30,40,50,60,70,80,90,100,150,250,500,1000, np.inf]\n",
    "labels = ['bajo','0', '20','40'] # Las etiquetas tienen que ser una menos que los bins\n",
    "df['range'] = pd.cut(df['Diff_deuda_Porcentaje'], labels = labels, bins=bins, include_lowest=True)\n",
    "df.groupby('range')['Diff_deuda_Porcentaje'].count()"
   ]
  },
  {
   "cell_type": "markdown",
   "metadata": {
    "heading_collapsed": true
   },
   "source": [
    "####  Melt DF"
   ]
  },
  {
   "cell_type": "code",
   "execution_count": null,
   "metadata": {
    "hidden": true
   },
   "outputs": [],
   "source": [
    "fechas_gra = df.groupby('Año-Mes').agg({'OP':'sum','NemesisDeb':'sum','Pagado':'sum','Anticipos / NC':'sum','Deuda':'sum'}).sort_values(by = 'Año-Mes').reset_index()\n",
    "fechas_gra = fechas_gra.melt(id_vars=['Año-Mes'], value_vars=['OP','Pagado','Deuda'],  var_name='Concepto', value_name='Pesos')"
   ]
  },
  {
   "cell_type": "markdown",
   "metadata": {
    "heading_collapsed": true
   },
   "source": [
    "#### ALTAIR - Bucle y descarga de imágenes"
   ]
  },
  {
   "cell_type": "code",
   "execution_count": null,
   "metadata": {
    "hidden": true
   },
   "outputs": [],
   "source": [
    "import altair as alt\n",
    "alt.renderers.enable('notebook')\n",
    "alt.renderers.enable('default')\n",
    "from altair_saver import save\n",
    "import selenium.webdriver\n",
    "driver = selenium.webdriver.Chrome()\n",
    "\n",
    "g = cuadro04.head(30)\n",
    "# g\n",
    "var = ['PagadoSobreOP','DeudaSobreOp','DebitoSobreOp','DebitosSobrePagado']\n",
    "import os\n",
    "for var in var:\n",
    "    chart = alt.Chart(g).mark_bar(\n",
    "        cornerRadiusTopLeft=3,\n",
    "        cornerRadiusTopRight=3\n",
    "    ).encode(\n",
    "        alt.X(\"Denominacion\", axis=alt.Axis(title='Prestador/Proveedor')),\n",
    "        alt.Y(var, axis= alt.Axis(title='%'))\n",
    "    ).properties(\n",
    "        title=var,\n",
    "        width=800,\n",
    "        height=300)\n",
    "    print(chart)\n",
    "    chart.display()\n",
    "    cwd = os.getcwd()\n",
    "    path = cwd + '/graficos/' + var + '.png'\n",
    "    save(chart, path)"
   ]
  },
  {
   "cell_type": "markdown",
   "metadata": {
    "heading_collapsed": true
   },
   "source": [
    "#### Histogramas "
   ]
  },
  {
   "cell_type": "code",
   "execution_count": null,
   "metadata": {
    "hidden": true
   },
   "outputs": [],
   "source": [
    "import pylab as pl\n",
    "\n",
    "cuadro05['DebitoSobreOp'].hist(bins=50, range=[0, 25])\n",
    "pl.title(\"Debitos sobre OP - TOP 30\")\n",
    "pl.xlabel(\"%\")\n",
    "pl.ylabel(\"Cantidad\")"
   ]
  },
  {
   "cell_type": "markdown",
   "metadata": {
    "heading_collapsed": true
   },
   "source": [
    "#### Spatial Join"
   ]
  },
  {
   "cell_type": "code",
   "execution_count": null,
   "metadata": {
    "hidden": true
   },
   "outputs": [],
   "source": [
    "### https://towardsdatascience.com/how-to-easily-join-data-by-location-in-python-spatial-join-197490ff3544\n",
    "\n",
    "# 1- Puntos\n",
    "df = pd.read_csv('/home/mato/Documentos/Datos/EDA/Walter/prestadores_CB3_DATA_STUDIO_QGIS_IV.csv')\n",
    "\n",
    "# 2 - Conversión a Geopandas Geodataframe\n",
    "gdf_df = gpd.GeoDataFrame(df,   \n",
    "                          geometry=gpd.points_from_xy(df.DirGeoX, df.DirGeoY))\n",
    "\n",
    "# 3 - Capa de barrios\n",
    "barrios = gpd.read_file('/home/mato/Documentos/Datos/EDA/mapas/barriosCABA/barrios_badata.shp')\n",
    "\n",
    "# barrios.crs = barrios.to_crs(\"EPSG:4326\")\n",
    "# gdf_df.crs = gdf_df.to_crs(\"epsg:3395\") #Mercator-projection\n",
    "\n",
    "gdf_df.crs = \"EPSG:4326\"\n",
    "barrios.crs = 'EPSG:4326'\n",
    "\n",
    "# Hacemos el spatial join\n",
    "sjoined_df = gpd.sjoin(gdf_df, barrios, op='within')"
   ]
  },
  {
   "cell_type": "markdown",
   "metadata": {
    "heading_collapsed": true
   },
   "source": [
    "#### Limites para los mapas"
   ]
  },
  {
   "cell_type": "code",
   "execution_count": null,
   "metadata": {
    "hidden": true
   },
   "outputs": [],
   "source": [
    "# provincias es el nombre del shape al cual queremos ajustarnos.\n",
    "ax.set_ylim(provincias.bounds.miny.min(), provincias.bounds.maxy.max())\n",
    "ax.set_xlim(provincias.bounds.minx.min(), provincias.bounds.maxx.max())"
   ]
  },
  {
   "cell_type": "markdown",
   "metadata": {
    "heading_collapsed": true
   },
   "source": [
    "#### Reemplazar varios valores en una columna "
   ]
  },
  {
   "cell_type": "code",
   "execution_count": null,
   "metadata": {
    "hidden": true
   },
   "outputs": [],
   "source": [
    "df3['month'] = df3['month'].replace(['enero','febrero','marzo','abril','mayo','junio','julio','agosto',\n",
    "                                     'septiembre','octubre','noviembre','diciembre'],\n",
    "                                     [1,2,3,4,5,6,7,8,9,10,11,12])"
   ]
  },
  {
   "cell_type": "markdown",
   "metadata": {},
   "source": [
    "#### Fechas desde columnas con dia, mes y año "
   ]
  },
  {
   "cell_type": "code",
   "execution_count": null,
   "metadata": {},
   "outputs": [],
   "source": [
    "df3 = df2[[\"FechaServicioDetalle_año_aut\", \"FechaServicioDetalle_mes_aut\", \"FechaServicioDetalle_dia_aut\"]].copy()\n",
    "df3.columns = [\"year\", \"month\", \"day\"]\n",
    "df3['month'] = df3['month'].str.strip()\n",
    "df3['year'] = df3['year'].str.strip()\n",
    "df3['day'] = df3['day'].str.strip()\n",
    "df3['month'] = df3['month'].replace(['enero','febrero','marzo','abril','mayo','junio','julio','agosto',\n",
    "                                     'septiembre','octubre','noviembre','diciembre'],\n",
    "                                     [1,2,3,4,5,6,7,8,9,10,11,12])\n",
    "\n",
    "df3['fecha'] = pd.to_datetime(df3[['year', 'month', 'day']])"
   ]
  },
  {
   "cell_type": "markdown",
   "metadata": {},
   "source": [
    "#### Agrupado contar valores sin NaN"
   ]
  },
  {
   "cell_type": "code",
   "execution_count": null,
   "metadata": {},
   "outputs": [],
   "source": [
    "df.groupby('columna').agg(\n",
    "    **{\n",
    "        'Monto No Nulo': ('Monto_suma', lambda x: x.count()),\n",
    "    })"
   ]
  },
  {
   "cell_type": "markdown",
   "metadata": {},
   "source": [
    "#### Agrupado con la misma columna"
   ]
  },
  {
   "cell_type": "code",
   "execution_count": null,
   "metadata": {},
   "outputs": [],
   "source": [
    "animals.groupby(\"kind\").agg(\n",
    "                            min_height=pd.NamedAgg(column='height', aggfunc='min'),\n",
    "                            max_height=pd.NamedAgg(column='height', aggfunc='max'),\n",
    "                            average_weight=pd.NamedAgg(column='weight', aggfunc=np.mean),\n",
    "                            )\n",
    "\n",
    "df2.groupby(['provincia_pres']).agg(**{\n",
    "                                    'Monto Promedio': ('Monto_suma', 'mean'),\n",
    "                                    'Monto Total Sumado': ('Monto_suma', 'max')\n",
    "                                    })\n",
    "    \n",
    "\n",
    "df2.groupby(['id_afiliado_aut']).\\\n",
    "                     agg(**{\n",
    "                         'Gasto Promedio Por Afiliado':pd.NamedAgg(column='Monto_suma', aggfunc='min'),\n",
    "                         'Monto Total Afiliado':pd.NamedAgg(column='Monto_suma', aggfunc='sum'),\n",
    "                         })"
   ]
  },
  {
   "cell_type": "markdown",
   "metadata": {
    "heading_collapsed": true
   },
   "source": [
    "#### Colorear celdas según valores"
   ]
  },
  {
   "cell_type": "code",
   "execution_count": null,
   "metadata": {
    "hidden": true
   },
   "outputs": [],
   "source": [
    "def pintura(val):\n",
    "    global color1\n",
    "    if val < promedio:\n",
    "        color1 = 'green'\n",
    "        print('a')\n",
    "    elif val > promedio:\n",
    "        color1 = 'yellow'\n",
    "    return 'background-color: %s' % color1\n",
    "\n",
    "prom_aut.style.applymap(pintura, subset=['Monto Promedio por Aut'])"
   ]
  }
 ],
 "metadata": {
  "hide_input": false,
  "kernelspec": {
   "display_name": "Python 3",
   "language": "python",
   "name": "python3"
  },
  "language_info": {
   "codemirror_mode": {
    "name": "ipython",
    "version": 3
   },
   "file_extension": ".py",
   "mimetype": "text/x-python",
   "name": "python",
   "nbconvert_exporter": "python",
   "pygments_lexer": "ipython3",
   "version": "3.8.5"
  }
 },
 "nbformat": 4,
 "nbformat_minor": 4
}
